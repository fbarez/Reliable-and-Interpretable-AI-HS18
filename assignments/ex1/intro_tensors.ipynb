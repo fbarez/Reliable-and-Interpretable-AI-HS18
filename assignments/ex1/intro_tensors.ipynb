{
 "cells": [
  {
   "cell_type": "code",
   "execution_count": 15,
   "metadata": {},
   "outputs": [],
   "source": [
    "import torch\n",
    "import numpy as np"
   ]
  },
  {
   "cell_type": "code",
   "execution_count": 16,
   "metadata": {},
   "outputs": [],
   "source": [
    "x = torch.ones(3)\n",
    "rnd = torch.randn(3)"
   ]
  },
  {
   "cell_type": "code",
   "execution_count": 17,
   "metadata": {},
   "outputs": [],
   "source": [
    "np_vector = np.array([1, 2, 3])\n",
    "y = torch.from_numpy(np_vector).float()"
   ]
  },
  {
   "cell_type": "code",
   "execution_count": 18,
   "metadata": {},
   "outputs": [
    {
     "data": {
      "text/plain": [
       "tensor([1., 2., 3.], requires_grad=True)"
      ]
     },
     "execution_count": 18,
     "metadata": {},
     "output_type": "execute_result"
    }
   ],
   "source": [
    "x.requires_grad_(True)\n",
    "y.requires_grad_(True)"
   ]
  },
  {
   "cell_type": "code",
   "execution_count": 19,
   "metadata": {},
   "outputs": [],
   "source": [
    "z1 = x * rnd\n",
    "z2 = z1 + torch.log(y) + x"
   ]
  },
  {
   "cell_type": "code",
   "execution_count": 20,
   "metadata": {},
   "outputs": [
    {
     "name": "stdout",
     "output_type": "stream",
     "text": [
      "tensor([ 0.8946,  0.3821, -1.0438], grad_fn=<ThMulBackward>) tensor([1.8946, 2.0753, 1.0548], grad_fn=<ThAddBackward>)\n"
     ]
    }
   ],
   "source": [
    "print(z1, z2)"
   ]
  },
  {
   "cell_type": "code",
   "execution_count": 21,
   "metadata": {},
   "outputs": [],
   "source": [
    "sum_z2 = torch.sum(z2)"
   ]
  },
  {
   "cell_type": "code",
   "execution_count": 22,
   "metadata": {},
   "outputs": [
    {
     "name": "stdout",
     "output_type": "stream",
     "text": [
      "tensor([ 1.8946,  1.3821, -0.0438]) tensor([1.0000, 0.5000, 0.3333])\n"
     ]
    }
   ],
   "source": [
    "sum_z2.backward()\n",
    "print(x.grad, y.grad)"
   ]
  },
  {
   "cell_type": "code",
   "execution_count": 23,
   "metadata": {},
   "outputs": [
    {
     "name": "stdout",
     "output_type": "stream",
     "text": [
      "tensor([1., 1., 1.], grad_fn=<CloneBackward>)\n",
      "tensor([1.1000, 1.1000, 1.1000], grad_fn=<MulBackward>)\n",
      "tensor([1.2100, 1.2100, 1.2100], grad_fn=<MulBackward>)\n",
      "tensor([1.3310, 1.3310, 1.3310], grad_fn=<MulBackward>)\n",
      "tensor([1.4641, 1.4641, 1.4641], grad_fn=<MulBackward>)\n",
      "tensor([1.6105, 1.6105, 1.6105], grad_fn=<MulBackward>)\n",
      "tensor([1.7716, 1.7716, 1.7716], grad_fn=<MulBackward>)\n",
      "tensor([1.9487, 1.9487, 1.9487], grad_fn=<MulBackward>)\n",
      "tensor([2.1436, 2.1436, 2.1436], grad_fn=<MulBackward>)\n",
      "tensor([2.3579, 2.3579, 2.3579], grad_fn=<MulBackward>)\n",
      "tensor([2.5937, 2.5937, 2.5937], grad_fn=<MulBackward>)\n",
      "tensor([2.8531, 2.8531, 2.8531], grad_fn=<MulBackward>)\n",
      "tensor([3.1384, 3.1384, 3.1384], grad_fn=<MulBackward>)\n",
      "tensor([3.4523, 3.4523, 3.4523], grad_fn=<MulBackward>)\n",
      "tensor([3.7975, 3.7975, 3.7975], grad_fn=<MulBackward>)\n",
      "tensor([4.1772, 4.1772, 4.1772], grad_fn=<MulBackward>)\n",
      "tensor([4.5950, 4.5950, 4.5950], grad_fn=<MulBackward>)\n",
      "tensor([5.0545, 5.0545, 5.0545], grad_fn=<MulBackward>)\n",
      "tensor([5.5599, 5.5599, 5.5599], grad_fn=<MulBackward>)\n"
     ]
    }
   ],
   "source": [
    "tmp = x.clone()\n",
    "while tmp.norm() < 10:\n",
    "    print(tmp)\n",
    "    tmp *= 1.1"
   ]
  },
  {
   "cell_type": "code",
   "execution_count": null,
   "metadata": {},
   "outputs": [],
   "source": []
  }
 ],
 "metadata": {
  "kernelspec": {
   "display_name": "Python 3",
   "language": "python",
   "name": "python3"
  },
  "language_info": {
   "codemirror_mode": {
    "name": "ipython",
    "version": 3
   },
   "file_extension": ".py",
   "mimetype": "text/x-python",
   "name": "python",
   "nbconvert_exporter": "python",
   "pygments_lexer": "ipython3",
   "version": "3.6.6"
  }
 },
 "nbformat": 4,
 "nbformat_minor": 2
}
