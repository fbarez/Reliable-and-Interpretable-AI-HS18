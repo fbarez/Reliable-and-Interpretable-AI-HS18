{
 "cells": [
  {
   "cell_type": "code",
   "execution_count": 2,
   "metadata": {},
   "outputs": [],
   "source": [
    "import torch\n",
    "import torch.nn as nn\n",
    "import torch.optim as optim\n",
    "import torch.nn.functional as F\n",
    "import numpy as np\n",
    "import time\n",
    "\n",
    "from torchvision import datasets, transforms\n",
    "from tensorboardX import SummaryWriter\n",
    "\n",
    "use_cuda = False\n",
    "device = torch.device(\"cuda\" if use_cuda else \"cpu\")\n",
    "batch_size = 64"
   ]
  },
  {
   "cell_type": "code",
   "execution_count": 3,
   "metadata": {},
   "outputs": [
    {
     "data": {
      "text/plain": [
       "<torch._C.Generator at 0x7f7af9b10730>"
      ]
     },
     "execution_count": 3,
     "metadata": {},
     "output_type": "execute_result"
    }
   ],
   "source": [
    "np.random.seed(42)\n",
    "torch.manual_seed(42)"
   ]
  },
  {
   "cell_type": "code",
   "execution_count": 4,
   "metadata": {},
   "outputs": [],
   "source": [
    "class Net(nn.Module):\n",
    "    def __init__(self):\n",
    "        super(Net, self).__init__()\n",
    "        self.fc = nn.Linear(28*28, 200)\n",
    "        self.fc2 = nn.Linear(200,10)\n",
    "\n",
    "    def forward(self, x):\n",
    "        x = x.view((-1, 28*28))\n",
    "        x = F.relu(self.fc(x))\n",
    "        x = self.fc2(x)\n",
    "        return x\n",
    "    \n",
    "class ConvNet(nn.Module):\n",
    "    def __init__(self):\n",
    "        super(ConvNet, self).__init__()\n",
    "        self.conv1 = nn.Conv2d(1, 32, kernel_size=(5, 5))\n",
    "        self.bn1 = nn.BatchNorm2d(32)\n",
    "        self.conv2 = nn.Conv2d(32, 32, kernel_size=(5, 5))\n",
    "        self.bn2 = nn.BatchNorm2d(32)\n",
    "        self.conv2_drop = nn.Dropout2d(p=0.2)\n",
    "        self.fc1 = nn.Linear(128, 100)\n",
    "        self.fc2 = nn.Linear(100, 10)\n",
    "        self.conv3 = nn.Conv2d(32, 64, kernel_size=(3, 3))\n",
    "        self.bn3 = nn.BatchNorm2d(64)\n",
    "        self.conv4 = nn.Conv2d(64, 64, kernel_size=(3, 3))\n",
    "        self.bn4 = nn.BatchNorm2d(64)\n",
    "        self.conv5 = nn.Conv2d(64, 128, kernel_size=(3, 3))\n",
    "        self.bn5 = nn.BatchNorm2d(128)\n",
    "        self.conv6 = nn.Conv2d(128, 128, kernel_size=(1, 1))\n",
    "        self.bn6 = nn.BatchNorm2d(128)\n",
    "\n",
    "    def forward(self, x):\n",
    "        x = F.relu(self.conv1(x))\n",
    "        x = self.bn1(x)\n",
    "        x = F.relu(self.conv2(x))\n",
    "        x = self.conv2_drop(F.max_pool2d(self.bn2(x), 2))\n",
    "        x = F.relu(self.conv3(x))\n",
    "        x = self.bn3(x)\n",
    "        x = F.relu(self.conv4(x))\n",
    "        x = self.bn4(x)\n",
    "        x = F.max_pool2d(x, 2)\n",
    "        x = self.conv2_drop(x)\n",
    "        x = F.relu(self.conv5(x))\n",
    "        x = self.bn5(x)\n",
    "        x = F.relu(self.conv6(x))\n",
    "        x = self.bn6(x)\n",
    "        size = x.size()[1] * x.size()[2] * x.size()[3]\n",
    "        # print(size)\n",
    "        x = x.view(-1, size)\n",
    "        x = F.relu(self.fc1(x))\n",
    "        x = self.fc2(x)\n",
    "        return x"
   ]
  },
  {
   "cell_type": "code",
   "execution_count": 5,
   "metadata": {},
   "outputs": [
    {
     "name": "stdout",
     "output_type": "stream",
     "text": [
      "Downloading http://yann.lecun.com/exdb/mnist/train-images-idx3-ubyte.gz\n",
      "Downloading http://yann.lecun.com/exdb/mnist/train-labels-idx1-ubyte.gz\n",
      "Downloading http://yann.lecun.com/exdb/mnist/t10k-images-idx3-ubyte.gz\n",
      "Downloading http://yann.lecun.com/exdb/mnist/t10k-labels-idx1-ubyte.gz\n",
      "Processing...\n",
      "Done!\n"
     ]
    }
   ],
   "source": [
    "train_dataset = datasets.MNIST('mnist_data/', train=True, download=True, transform=transforms.Compose(\n",
    "    [transforms.ToTensor(), transforms.Normalize((0.1307,), (0.3081,))]\n",
    "))\n",
    "test_dataset = datasets.MNIST('mnist_data/', train=False, download=True, transform=transforms.Compose(\n",
    "    [transforms.ToTensor(), transforms.Normalize((0.1307,), (0.3081,))]\n",
    "))"
   ]
  },
  {
   "cell_type": "code",
   "execution_count": 6,
   "metadata": {},
   "outputs": [],
   "source": [
    "train_loader = torch.utils.data.DataLoader(train_dataset, batch_size=batch_size, shuffle=True)\n",
    "test_loader = torch.utils.data.DataLoader(test_dataset, batch_size=batch_size, shuffle=False)"
   ]
  },
  {
   "cell_type": "code",
   "execution_count": 7,
   "metadata": {},
   "outputs": [
    {
     "data": {
      "text/plain": [
       "Net(\n",
       "  (fc): Linear(in_features=784, out_features=200, bias=True)\n",
       "  (fc2): Linear(in_features=200, out_features=10, bias=True)\n",
       ")"
      ]
     },
     "execution_count": 7,
     "metadata": {},
     "output_type": "execute_result"
    }
   ],
   "source": [
    "model = Net().to(device)\n",
    "model.train()"
   ]
  },
  {
   "cell_type": "code",
   "execution_count": 8,
   "metadata": {},
   "outputs": [
    {
     "name": "stdout",
     "output_type": "stream",
     "text": [
      "Epoch 1: Accuracy 0.91770 [10.37 seconds]\n",
      "Epoch 2: Accuracy 0.93580 [10.41 seconds]\n",
      "Epoch 3: Accuracy 0.94730 [9.58 seconds]\n",
      "Epoch 4: Accuracy 0.95460 [9.44 seconds]\n",
      "Epoch 5: Accuracy 0.95860 [9.48 seconds]\n",
      "Epoch 6: Accuracy 0.96420 [9.23 seconds]\n",
      "Epoch 7: Accuracy 0.96820 [9.76 seconds]\n",
      "Epoch 8: Accuracy 0.96860 [11.28 seconds]\n",
      "Epoch 9: Accuracy 0.97150 [10.33 seconds]\n",
      "Epoch 10: Accuracy 0.97330 [9.82 seconds]\n",
      "Epoch 11: Accuracy 0.97450 [10.75 seconds]\n",
      "Epoch 12: Accuracy 0.97660 [10.58 seconds]\n",
      "Epoch 13: Accuracy 0.97560 [10.65 seconds]\n",
      "Epoch 14: Accuracy 0.97700 [10.47 seconds]\n",
      "Epoch 15: Accuracy 0.97820 [11.11 seconds]\n",
      "Epoch 16: Accuracy 0.97890 [12.58 seconds]\n",
      "Epoch 17: Accuracy 0.97820 [11.16 seconds]\n",
      "Epoch 18: Accuracy 0.97820 [12.21 seconds]\n",
      "Epoch 19: Accuracy 0.97950 [11.59 seconds]\n",
      "Epoch 20: Accuracy 0.97920 [10.83 seconds]\n"
     ]
    }
   ],
   "source": [
    "learning_rate = 0.0001\n",
    "num_epochs = 20\n",
    "\n",
    "\"\"\" SGD vs Adam \"\"\"\n",
    "#opt = optim.SGD(params=model.parameters(), lr=learning_rate)\n",
    "opt = optim.Adam(params=model.parameters(), lr=learning_rate)\n",
    "\n",
    "ce_loss = torch.nn.CrossEntropyLoss()\n",
    "\n",
    "writer = SummaryWriter()\n",
    "tot_steps = 0\n",
    "\n",
    "for epoch in range(1,num_epochs+1):\n",
    "    t1 = time.time()\n",
    "    for batch_idx, (x_batch, y_batch) in enumerate(train_loader):\n",
    "        x_batch, y_batch = x_batch.to(device), y_batch.to(device)\n",
    "        tot_steps += 1\n",
    "        opt.zero_grad()\n",
    "        out = model(x_batch)\n",
    "        batch_loss = ce_loss(out, y_batch)\n",
    "        \n",
    "        if batch_idx % 100 == 0:\n",
    "            pred = torch.max(out, dim=1)[1]\n",
    "            acc = pred.eq(y_batch).sum().item() / float(batch_size)\n",
    "            \n",
    "            writer.add_scalar('data/accuracy', acc, tot_steps)\n",
    "            writer.add_scalar('data/loss', batch_loss.item(), tot_steps)\n",
    "        \n",
    "        batch_loss.backward()\n",
    "        opt.step()\n",
    "        \n",
    "        #for param in model.parameters():\n",
    "        #    param.data -= learning_rate * param.grad.data\n",
    "        \n",
    "    tot_test, tot_acc = 0.0, 0.0\n",
    "    for batch_idx, (x_batch, y_batch) in enumerate(test_loader):\n",
    "        x_batch, y_batch = x_batch.to(device), y_batch.to(device)\n",
    "        out = model(x_batch)\n",
    "        pred = torch.max(out, dim=1)[1]\n",
    "        acc = pred.eq(y_batch).sum().item()\n",
    "        tot_acc += acc\n",
    "        tot_test += x_batch.size()[0]\n",
    "    t2 = time.time()\n",
    "        \n",
    "    print('Epoch %d: Accuracy %.5lf [%.2lf seconds]' % (epoch, tot_acc/tot_test, t2-t1))           "
   ]
  },
  {
   "cell_type": "code",
   "execution_count": null,
   "metadata": {},
   "outputs": [],
   "source": []
  }
 ],
 "metadata": {
  "kernelspec": {
   "display_name": "Python 3",
   "language": "python",
   "name": "python3"
  },
  "language_info": {
   "codemirror_mode": {
    "name": "ipython",
    "version": 3
   },
   "file_extension": ".py",
   "mimetype": "text/x-python",
   "name": "python",
   "nbconvert_exporter": "python",
   "pygments_lexer": "ipython3",
   "version": "3.6.6"
  }
 },
 "nbformat": 4,
 "nbformat_minor": 2
}
