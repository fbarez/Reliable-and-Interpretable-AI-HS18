{
 "cells": [
  {
   "cell_type": "code",
   "execution_count": 1,
   "metadata": {},
   "outputs": [],
   "source": [
    "import torch\n",
    "import torch.nn as nn\n",
    "import torch.optim as optim\n",
    "import torch.nn.functional as F\n",
    "import numpy as np\n",
    "import time\n",
    "\n",
    "from torchvision import datasets, transforms\n",
    "from tensorboardX import SummaryWriter\n",
    "from model import Net, ConvNet\n",
    "use_cuda = False\n",
    "device = torch.device(\"cuda\" if use_cuda else \"cpu\")\n",
    "batch_size = 64\n",
    "\n",
    "import matplotlib.pyplot as plt"
   ]
  },
  {
   "cell_type": "code",
   "execution_count": 2,
   "metadata": {},
   "outputs": [
    {
     "data": {
      "text/plain": [
       "<torch._C.Generator at 0x7f9f185c6690>"
      ]
     },
     "execution_count": 2,
     "metadata": {},
     "output_type": "execute_result"
    }
   ],
   "source": [
    "np.random.seed(42)\n",
    "torch.manual_seed(42)"
   ]
  },
  {
   "cell_type": "code",
   "execution_count": 3,
   "metadata": {},
   "outputs": [],
   "source": [
    "# loading the dataset\n",
    "# note that this time we do not perfrom the normalization operation, see next cell\n",
    "test_dataset = datasets.MNIST('mnist_data/', train=False, download=True, transform=transforms.Compose(\n",
    "    [transforms.ToTensor()]\n",
    "))"
   ]
  },
  {
   "cell_type": "code",
   "execution_count": 4,
   "metadata": {},
   "outputs": [
    {
     "name": "stderr",
     "output_type": "stream",
     "text": [
      "/home/manu/git/riai18/assignments/ex3/.env/lib/python3.6/site-packages/torch/serialization.py:425: SourceChangeWarning: source code of class 'torch.nn.modules.conv.Conv2d' has changed. you can retrieve the original source code by accessing the object's source attribute or set `torch.nn.Module.dump_patches = True` and use the patch tool to revert the changes.\n",
      "  warnings.warn(msg, SourceChangeWarning)\n",
      "/home/manu/git/riai18/assignments/ex3/.env/lib/python3.6/site-packages/torch/serialization.py:425: SourceChangeWarning: source code of class 'torch.nn.modules.batchnorm.BatchNorm2d' has changed. you can retrieve the original source code by accessing the object's source attribute or set `torch.nn.Module.dump_patches = True` and use the patch tool to revert the changes.\n",
      "  warnings.warn(msg, SourceChangeWarning)\n",
      "/home/manu/git/riai18/assignments/ex3/.env/lib/python3.6/site-packages/torch/serialization.py:425: SourceChangeWarning: source code of class 'torch.nn.modules.linear.Linear' has changed. you can retrieve the original source code by accessing the object's source attribute or set `torch.nn.Module.dump_patches = True` and use the patch tool to revert the changes.\n",
      "  warnings.warn(msg, SourceChangeWarning)\n"
     ]
    },
    {
     "data": {
      "text/plain": [
       "Sequential(\n",
       "  (0): Sequential(\n",
       "    (0): Normalize()\n",
       "    (1): ConvNet(\n",
       "      (conv1): Conv2d(1, 32, kernel_size=(5, 5), stride=(1, 1))\n",
       "      (bn1): BatchNorm2d(32, eps=1e-05, momentum=0.1, affine=True, track_running_stats=True)\n",
       "      (conv2): Conv2d(32, 32, kernel_size=(5, 5), stride=(1, 1))\n",
       "      (bn2): BatchNorm2d(32, eps=1e-05, momentum=0.1, affine=True, track_running_stats=True)\n",
       "      (conv2_drop): Dropout2d(p=0.2)\n",
       "      (fc1): Linear(in_features=128, out_features=100, bias=True)\n",
       "      (fc2): Linear(in_features=100, out_features=10, bias=True)\n",
       "      (conv3): Conv2d(32, 64, kernel_size=(3, 3), stride=(1, 1))\n",
       "      (bn3): BatchNorm2d(64, eps=1e-05, momentum=0.1, affine=True, track_running_stats=True)\n",
       "      (conv4): Conv2d(64, 64, kernel_size=(3, 3), stride=(1, 1))\n",
       "      (bn4): BatchNorm2d(64, eps=1e-05, momentum=0.1, affine=True, track_running_stats=True)\n",
       "      (conv5): Conv2d(64, 128, kernel_size=(3, 3), stride=(1, 1))\n",
       "      (bn5): BatchNorm2d(128, eps=1e-05, momentum=0.1, affine=True, track_running_stats=True)\n",
       "      (conv6): Conv2d(128, 128, kernel_size=(1, 1), stride=(1, 1))\n",
       "      (bn6): BatchNorm2d(128, eps=1e-05, momentum=0.1, affine=True, track_running_stats=True)\n",
       "    )\n",
       "  )\n",
       "  (1): Softmax()\n",
       ")"
      ]
     },
     "execution_count": 4,
     "metadata": {},
     "output_type": "execute_result"
    }
   ],
   "source": [
    "class Normalize(nn.Module):\n",
    "    def forward(self, x):\n",
    "        return (x - 0.1307)/0.3081\n",
    "\n",
    "# we load the body of the neural net trained last time...\n",
    "model = torch.load('model.net', map_location='cpu') \n",
    "\n",
    "# ... and add the data normalization as a first \"layer\" to the network\n",
    "# this allows us to search for adverserial examples to the real image, rather than\n",
    "# to the normalized image\n",
    "model = nn.Sequential(Normalize(), model)\n",
    "\n",
    "# and here we also create a version of the model that outputs the class probabilities\n",
    "model_to_prob = nn.Sequential(model, nn.Softmax())\n",
    "\n",
    "# we put the neural net into evaluation mode (this disables features like dropout)\n",
    "model.eval()\n",
    "model_to_prob.eval()"
   ]
  },
  {
   "cell_type": "code",
   "execution_count": 5,
   "metadata": {},
   "outputs": [],
   "source": [
    "# define a show function for later\n",
    "def show(original, adv, model_to_prob):\n",
    "    p0 = model_to_prob(original).detach().numpy()\n",
    "    p1 = model_to_prob(adv).detach().numpy()\n",
    "    f, axarr = plt.subplots(1,2)\n",
    "    axarr[0].imshow(original.detach().numpy().reshape(28, 28), cmap='gray')\n",
    "    axarr[0].set_title(\"Original, class: \" + str(p0.argmax()))\n",
    "    axarr[1].imshow(adv.detach().numpy().reshape(28, 28), cmap='gray')\n",
    "    axarr[1].set_title(\"Original, class: \" + str(p1.argmax()))\n",
    "    print(\"Class\\t\\tOrig\\tAdv\")\n",
    "    for i in range(10):\n",
    "        print(\"Class {}:\\t{:.2f}\\t{:.2f}\".format(i, float(p0[:, i]), float(p1[:, i])))"
   ]
  },
  {
   "cell_type": "code",
   "execution_count": 112,
   "metadata": {},
   "outputs": [],
   "source": [
    "from IPython.core.debugger import set_trace\n",
    "\n",
    "def fgsm(model, x, target, eps, targeted=True, clip_min=None, clip_max=None):\n",
    "    \"\"\"Internal process for all FGSM and PGD attacks. \"\"\"    \n",
    "    # create a copy\n",
    "    x_tensor = x.clone().detach_()\n",
    "    # enable gradient\n",
    "    x_tensor.requires_grad_()\n",
    "    # convert input target from integer into tensor\n",
    "    target = torch.tensor([target])\n",
    "    \n",
    "    # run the net on our target\n",
    "    net_output = model(x_tensor)\n",
    "    \n",
    "    # calculate loss with respect to target label\n",
    "    # for targeted FGSM this is NOT the true label\n",
    "    # for untargeted FGSM this is the true label\n",
    "    criterion = nn.CrossEntropyLoss()\n",
    "    loss = criterion(net_output, target)\n",
    "\n",
    "    # take the gradient of the loss\n",
    "    model.zero_grad() # zero the buffer\n",
    "    loss.backward() # backpropagate\n",
    "    grad = x_tensor.grad\n",
    "    grad_sign = torch.sign(grad)\n",
    "    \n",
    "    # attack\n",
    "    if targeted:\n",
    "        x_perturbed = x_tensor - eps * grad_sign\n",
    "    else:\n",
    "        x_perturbed = x_tensor + eps * grad_sign\n",
    "    \n",
    "    # clip the ouput back to the image domain, for MNIST it is [0,1]\n",
    "    if (clip_min is not None) or (clip_max is not None):\n",
    "        x_perturbed.clamp_(min=clip_min, max=clip_max) # Inplace clamping of pytorch\n",
    "    return x_perturbed\n",
    "\n",
    "\n",
    "def fgsm_targeted(model, x, target, eps, clip_min=None, clip_max=None):\n",
    "    \"\"\"\n",
    "    Targeted Fast Gradient Sign Method\n",
    "    \n",
    "    Args:\n",
    "        model: Neural net\n",
    "        x: Tensor of the given data\n",
    "        target: Target label\n",
    "        eps: Size of Perturbation\n",
    "\n",
    "    Returns:\n",
    "        Perturbated Tensor\n",
    "    \"\"\"\n",
    "    \n",
    "    return fgsm(model, x, target, eps, targeted=True, clip_min=None, clip_max=None)\n",
    "\n",
    "def fgsm_untargeted(model, x, correct_label, eps, clip_min=None, clip_max=None):\n",
    "    \"\"\"\n",
    "    Targeted Fast Gradient Sign Method\n",
    "    \n",
    "    Args:\n",
    "        model: Neuralnet\n",
    "        x: Tensor of the given data\n",
    "        label: Correct label\n",
    "        eps: Size of Perturbation\n",
    "\n",
    "    Returns:\n",
    "        Perturbated Tensor\n",
    "    \"\"\"\n",
    "    return fgsm(model, x, correct_label, eps, targeted=False, clip_min=None, clip_max=None)\n",
    "\n",
    "def pgd(model, x, target, k, eps, eps_step, targeted=True, clip_min=None, clip_max=None):\n",
    "    \"\"\"\n",
    "    Projected gradient descent base function\n",
    "    \n",
    "    Args:\n",
    "        model: Neuralnet\n",
    "        x: Tensor of the given data\n",
    "        target: Target label\n",
    "        eps: Size of L_inf ball on which we will project down to.\n",
    "        eps_step: Size of Perturbation used for the FGSM\n",
    "\n",
    "    Returns:\n",
    "        Perturbated Tensor\n",
    "    \"\"\"\n",
    "    # Define the L_inf ball for the projection\n",
    "    x_min = x - eps\n",
    "    x_max = x + eps\n",
    "    \n",
    "    # FGSM step\n",
    "    for i in range(k):\n",
    "        adv = fgsm(model, x, target, eps_step, targeted=targeted, clip_min=None, clip_max=None)\n",
    "        \n",
    "        # Project on L_inf ball \n",
    "        adv = torch.max(x_min, adv) # If adv is inside the L_inf ball\n",
    "        adv = torch.min(x_max, adv) # If adv is outside the L_inf ball\n",
    "        x = adv\n",
    "    \n",
    "    # clip the ouput back to the image domain, for MNIST it is [0,1]\n",
    "    if (clip_min is not None) or (clip_max is not None):\n",
    "        adv.clamp_(min=clip_min, max=clip_max) # Inplace clamping of pytorch\n",
    "    return adv    \n",
    "    \n",
    "    # project back to L_inf ball\n",
    "    \n",
    "    \n",
    "def pgd_targeted(model, x, target, k, eps, eps_step, targeted=True, clip_min=None, clip_max=None):\n",
    "    return pgd(model, x, target, k, eps, eps_step, targeted=True, clip_min=None, clip_max=None)\n",
    "\n",
    "def pgd_untargeted(model, x, correct_label, k, eps, eps_step, targeted=False, clip_min=None, clip_max=None):\n",
    "    return pgd(model, x, correct_label, k, eps, eps_step, targeted=False, clip_min=None, clip_max=None)\n"
   ]
  },
  {
   "cell_type": "code",
   "execution_count": 127,
   "metadata": {},
   "outputs": [],
   "source": [
    "# try out our attacks\n",
    "i_data = 1\n",
    "target_label = 0\n",
    "original = torch.unsqueeze(test_dataset[i_data][0], dim=0)\n",
    "correct_label = test_dataset[i_data][1].item()"
   ]
  },
  {
   "cell_type": "code",
   "execution_count": 133,
   "metadata": {},
   "outputs": [
    {
     "name": "stdout",
     "output_type": "stream",
     "text": [
      "Class\t\tOrig\tAdv\n",
      "Class 0:\t0.00\t0.34\n",
      "Class 1:\t0.00\t0.00\n",
      "Class 2:\t1.00\t0.01\n",
      "Class 3:\t0.00\t0.20\n",
      "Class 4:\t0.00\t0.00\n",
      "Class 5:\t0.00\t0.05\n",
      "Class 6:\t0.00\t0.00\n",
      "Class 7:\t0.00\t0.00\n",
      "Class 8:\t0.00\t0.39\n",
      "Class 9:\t0.00\t0.00\n"
     ]
    },
    {
     "data": {
      "image/png": "[encoded data removed]",
      "text/plain": [
       "<Figure size 432x288 with 2 Axes>"
      ]
     },
     "metadata": {
      "needs_background": "light"
     },
     "output_type": "display_data"
    }
   ],
   "source": [
    "adv = fgsm_targeted(model, original, target_label, 5e-1, clip_min=0, clip_max=1.0)\n",
    "\n",
    "show(original, adv, model_to_prob)"
   ]
  },
  {
   "cell_type": "code",
   "execution_count": 135,
   "metadata": {},
   "outputs": [
    {
     "name": "stdout",
     "output_type": "stream",
     "text": [
      "Class\t\tOrig\tAdv\n",
      "Class 0:\t0.00\t0.00\n",
      "Class 1:\t0.00\t0.00\n",
      "Class 2:\t1.00\t0.00\n",
      "Class 3:\t0.00\t1.00\n",
      "Class 4:\t0.00\t0.00\n",
      "Class 5:\t0.00\t0.00\n",
      "Class 6:\t0.00\t0.00\n",
      "Class 7:\t0.00\t0.00\n",
      "Class 8:\t0.00\t0.00\n",
      "Class 9:\t0.00\t0.00\n"
     ]
    },
    {
     "data": {
      "image/png": "[encoded data removed]",
      "text/plain": [
       "<Figure size 432x288 with 2 Axes>"
      ]
     },
     "metadata": {
      "needs_background": "light"
     },
     "output_type": "display_data"
    }
   ],
   "source": [
    "adv = fgsm_untargeted(model, original, correct_label, 5e-1,  clip_min=0, clip_max=1.0)\n",
    "\n",
    "show(original, adv, model_to_prob)"
   ]
  },
  {
   "cell_type": "code",
   "execution_count": 137,
   "metadata": {
    "scrolled": true
   },
   "outputs": [
    {
     "name": "stdout",
     "output_type": "stream",
     "text": [
      "Class\t\tOrig\tAdv\n",
      "Class 0:\t0.00\t0.99\n",
      "Class 1:\t0.00\t0.00\n",
      "Class 2:\t1.00\t0.01\n",
      "Class 3:\t0.00\t0.00\n",
      "Class 4:\t0.00\t0.00\n",
      "Class 5:\t0.00\t0.00\n",
      "Class 6:\t0.00\t0.00\n",
      "Class 7:\t0.00\t0.00\n",
      "Class 8:\t0.00\t0.00\n",
      "Class 9:\t0.00\t0.00\n"
     ]
    },
    {
     "data": {
      "image/png": "[encoded data removed]",
      "text/plain": [
       "<Figure size 432x288 with 2 Axes>"
      ]
     },
     "metadata": {
      "needs_background": "light"
     },
     "output_type": "display_data"
    }
   ],
   "source": [
    "adv = pgd_targeted(model, original, target_label, 500, 0.08, 0.05, clip_min=0, clip_max=1.0)\n",
    "\n",
    "show(original, adv, model_to_prob)"
   ]
  },
  {
   "cell_type": "code",
   "execution_count": 126,
   "metadata": {},
   "outputs": [
    {
     "name": "stdout",
     "output_type": "stream",
     "text": [
      "Class\t\tOrig\tAdv\n",
      "Class 0:\t0.00\t0.00\n",
      "Class 1:\t0.00\t0.00\n",
      "Class 2:\t1.00\t0.00\n",
      "Class 3:\t0.00\t1.00\n",
      "Class 4:\t0.00\t0.00\n",
      "Class 5:\t0.00\t0.00\n",
      "Class 6:\t0.00\t0.00\n",
      "Class 7:\t0.00\t0.00\n",
      "Class 8:\t0.00\t0.00\n",
      "Class 9:\t0.00\t0.00\n"
     ]
    },
    {
     "data": {
      "image/png": "[encoded data removed]",
      "text/plain": [
       "<Figure size 432x288 with 2 Axes>"
      ]
     },
     "metadata": {
      "needs_background": "light"
     },
     "output_type": "display_data"
    }
   ],
   "source": [
    "adv = pgd_untargeted(model, original, correct_label, 50, 0.1, 0.05, clip_min=0, clip_max=1.0)\n",
    "\n",
    "show(original, adv, model_to_prob)"
   ]
  },
  {
   "cell_type": "markdown",
   "metadata": {},
   "source": [
    "# Findings\n",
    "\n",
    "As we can see PGD can create adverserial examples without perturbing the image as much as the FGSM method, with only a slightly increased computational payload."
   ]
  }
 ],
 "metadata": {
  "kernelspec": {
   "display_name": "Python 3",
   "language": "python",
   "name": "python3"
  },
  "language_info": {
   "codemirror_mode": {
    "name": "ipython",
    "version": 3
   },
   "file_extension": ".py",
   "mimetype": "text/x-python",
   "name": "python",
   "nbconvert_exporter": "python",
   "pygments_lexer": "ipython3",
   "version": "3.6.6"
  }
 },
 "nbformat": 4,
 "nbformat_minor": 2
}
