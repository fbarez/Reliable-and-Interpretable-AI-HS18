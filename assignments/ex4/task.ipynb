{
 "cells": [
  {
   "cell_type": "code",
   "execution_count": 1,
   "metadata": {},
   "outputs": [],
   "source": [
    "import torch\n",
    "import torch.nn as nn\n",
    "import torch.optim as optim\n",
    "import torch.nn.functional as F\n",
    "import time\n",
    "\n",
    "%matplotlib inline\n",
    "\n",
    "import matplotlib\n",
    "import numpy as np\n",
    "import matplotlib.pyplot as plt\n",
    "from matplotlib.pyplot import imshow\n",
    "\n",
    "from torchvision import datasets, transforms\n",
    "from tensorboardX import SummaryWriter\n",
    "\n",
    "use_cuda = False\n",
    "device = torch.device(\"cuda\" if use_cuda else \"cpu\")\n",
    "batch_size = 64\n",
    "\n",
    "from IPython.core.debugger import set_trace"
   ]
  },
  {
   "cell_type": "code",
   "execution_count": 2,
   "metadata": {},
   "outputs": [
    {
     "data": {
      "text/plain": [
       "<torch._C.Generator at 0x7f784003a7b0>"
      ]
     },
     "execution_count": 2,
     "metadata": {},
     "output_type": "execute_result"
    }
   ],
   "source": [
    "np.random.seed(42)\n",
    "torch.manual_seed(42)"
   ]
  },
  {
   "cell_type": "code",
   "execution_count": 3,
   "metadata": {},
   "outputs": [],
   "source": [
    "class Net(nn.Module):\n",
    "    def __init__(self):\n",
    "        super(Net, self).__init__()\n",
    "        self.fc = nn.Linear(28*28, 200)\n",
    "        self.fc2 = nn.Linear(200,10)\n",
    "\n",
    "    def forward(self, x):\n",
    "        x = x.view((-1, 28*28))\n",
    "        x = F.relu(self.fc(x))\n",
    "        x = self.fc2(x)\n",
    "        return x"
   ]
  },
  {
   "cell_type": "code",
   "execution_count": 4,
   "metadata": {},
   "outputs": [],
   "source": [
    "train_dataset = datasets.MNIST('mnist_data/', train=True, download=True, transform=transforms.Compose(\n",
    "    [transforms.ToTensor()]\n",
    "))\n",
    "test_dataset = datasets.MNIST('mnist_data/', train=False, download=True, transform=transforms.Compose(\n",
    "    [transforms.ToTensor()]\n",
    "))"
   ]
  },
  {
   "cell_type": "code",
   "execution_count": 5,
   "metadata": {},
   "outputs": [],
   "source": [
    "train_loader = torch.utils.data.DataLoader(train_dataset, batch_size=batch_size, shuffle=True)\n",
    "test_loader = torch.utils.data.DataLoader(test_dataset, batch_size=batch_size, shuffle=False)"
   ]
  },
  {
   "cell_type": "code",
   "execution_count": 6,
   "metadata": {},
   "outputs": [
    {
     "data": {
      "text/plain": [
       "Sequential(\n",
       "  (0): Normalize()\n",
       "  (1): Net(\n",
       "    (fc): Linear(in_features=784, out_features=200, bias=True)\n",
       "    (fc2): Linear(in_features=200, out_features=10, bias=True)\n",
       "  )\n",
       ")"
      ]
     },
     "execution_count": 6,
     "metadata": {},
     "output_type": "execute_result"
    }
   ],
   "source": [
    "class Normalize(nn.Module):\n",
    "    def forward(self, x):\n",
    "        return (x - 0.1307)/0.3081\n",
    "    \n",
    "\n",
    "# Add the data normalization as a first \"layer\" to the network\n",
    "# this allows us to search for adverserial examples to the real image, rather than\n",
    "# to the normalized image\n",
    "model = nn.Sequential(Normalize(), Net())\n",
    "\n",
    "model = model.to(device)\n",
    "model.train()"
   ]
  },
  {
   "cell_type": "code",
   "execution_count": 7,
   "metadata": {},
   "outputs": [],
   "source": [
    "# Copied from ex3\n",
    "\n",
    "def fgsm(model, x, target, eps, targeted=True, clip_min=None, clip_max=None, **kwargs):\n",
    "    \"\"\"Internal process for all FGSM and PGD attacks. \"\"\"    \n",
    "    # create a copy\n",
    "    x_tensor = x.clone().detach_()\n",
    "    # enable gradient\n",
    "    x_tensor.requires_grad_()\n",
    "    # convert input target from integer into tensor    \n",
    "    try:\n",
    "        target = torch.tensor([target])\n",
    "    except ValueError:\n",
    "        # Should alreayd be a tensor than.\n",
    "        pass\n",
    "    \n",
    "    # run the net on our target\n",
    "    net_output = model(x_tensor)\n",
    "    \n",
    "    # calculate loss with respect to target label\n",
    "    # for targeted FGSM this is NOT the true label\n",
    "    # for untargeted FGSM this is the true label\n",
    "    criterion = nn.CrossEntropyLoss()\n",
    "    loss = criterion(net_output, target)\n",
    "\n",
    "    # take the gradient of the loss\n",
    "    model.zero_grad() # zero the buffer\n",
    "    loss.backward() # backpropagate\n",
    "    grad = x_tensor.grad\n",
    "    grad_sign = torch.sign(grad)\n",
    "    \n",
    "    # attack\n",
    "    if targeted:\n",
    "        x_perturbed = x_tensor - eps * grad_sign\n",
    "    else:\n",
    "        x_perturbed = x_tensor + eps * grad_sign\n",
    "    \n",
    "    # clip the ouput back to the image domain, for MNIST it is [0,1]\n",
    "    if (clip_min is not None) or (clip_max is not None):\n",
    "        x_perturbed.clamp_(min=clip_min, max=clip_max) # Inplace clamping of pytorch\n",
    "    return x_perturbed\n",
    "\n",
    "\n",
    "def fgsm_targeted(model, x, target, eps, clip_min=None, clip_max=None):\n",
    "    \"\"\"\n",
    "    Targeted Fast Gradient Sign Method\n",
    "    \n",
    "    Args:\n",
    "        model: Neural net\n",
    "        x: Tensor of the given data\n",
    "        target: Target label\n",
    "        eps: Size of Perturbation\n",
    "\n",
    "    Returns:\n",
    "        Perturbated Tensor\n",
    "    \"\"\"\n",
    "    \n",
    "    return fgsm(model, x, target, eps, targeted=True, clip_min=None, clip_max=None)\n",
    "\n",
    "def fgsm_untargeted(model, x, correct_label, eps, clip_min=None, clip_max=None):\n",
    "    \"\"\"\n",
    "    Targeted Fast Gradient Sign Method\n",
    "    \n",
    "    Args:\n",
    "        model: Neuralnet\n",
    "        x: Tensor of the given data\n",
    "        label: Correct label\n",
    "        eps: Size of Perturbation\n",
    "\n",
    "    Returns:\n",
    "        Perturbated Tensor\n",
    "    \"\"\"\n",
    "    return fgsm(model, x, correct_label, eps, targeted=False, clip_min=None, clip_max=None)\n",
    "\n",
    "def pgd(model, x, target, k, eps, eps_step, targeted=True, clip_min=None, clip_max=None, random_start=False, **kwargs):\n",
    "    \"\"\"\n",
    "    Projected gradient descent base function\n",
    "    \n",
    "    Args:\n",
    "        model: Neuralnet\n",
    "        x: Tensor of the given data\n",
    "        target: Target label\n",
    "        eps: Size of L_inf ball on which we will project down to.\n",
    "        eps_step: Size of Perturbation used for the FGSM\n",
    "\n",
    "    Returns:\n",
    "        Perturbated Tensor\n",
    "    \"\"\"\n",
    "    # Define the L_inf ball for the projection\n",
    "    x_min = x - eps\n",
    "    x_max = x + eps\n",
    "    \n",
    "    if random_start:\n",
    "        x_rand = torch.rand_like(x)*2 - 1 # Random tensor, uniform dist in interval [-1,1]\n",
    "        x += x_rand*eps\n",
    "    \n",
    "    # FGSM step\n",
    "    for i in range(k):\n",
    "        adv = fgsm(model, x, target, eps_step, targeted=targeted, clip_min=None, clip_max=None, **kwargs)\n",
    "        \n",
    "        # Project on L_inf ball \n",
    "        adv = torch.max(x_min, adv) # If adv is inside the L_inf ball\n",
    "        adv = torch.min(x_max, adv) # If adv is outside the L_inf ball\n",
    "        x = adv\n",
    "    \n",
    "    # clip the ouput back to the image domain, for MNIST it is [0,1]\n",
    "    if (clip_min is not None) or (clip_max is not None):\n",
    "        adv.clamp_(min=clip_min, max=clip_max) # Inplace clamping of pytorch\n",
    "    return adv    \n",
    "        \n",
    "    \n",
    "def pgd_targeted(model, x, target, k, eps, eps_step, clip_min=None, clip_max=None, **kwargs):\n",
    "    return pgd(model, x, target, k, eps, eps_step, targeted=True, clip_min=None, clip_max=None, **kwargs)\n",
    "\n",
    "def pgd_untargeted(model, x, correct_label, k, eps, eps_step, clip_min=None, clip_max=None, **kwargs):\n",
    "    x_adv = pgd(model, x, correct_label, k, eps, eps_step, targeted=False, clip_min=None, clip_max=None, **kwargs)\n",
    "    return x_adv"
   ]
  },
  {
   "cell_type": "markdown",
   "metadata": {},
   "source": [
    "# Problem 1.1 and 1.3\n",
    "Train Network with PGD defense and batches and plot histogram of training loss and the development of it during training."
   ]
  },
  {
   "cell_type": "code",
   "execution_count": 8,
   "metadata": {},
   "outputs": [],
   "source": [
    "def display_histogram(model, loss, x, y):\n",
    "    model.eval()\n",
    "    # generate a loss histogram\n",
    "    hist_data = []\n",
    "    num_hist_samples = 1000\n",
    "    for l in range(num_hist_samples):\n",
    "        xprime = pgd_untargeted(model, x, y, 10, 0.08, 0.05, random_start = True)\n",
    "        xprime, yprime = xprime.to(device), y.to(device)\n",
    "        out = model(xprime)\n",
    "        batch_loss = loss(out, yprime)\n",
    "        hist_data.append(batch_loss.item())\n",
    "        \n",
    "    plt.xlim(left=0, right=max(1,max(hist_data)))\n",
    "    plt.yscale('log')\n",
    "    plt.hist(hist_data, weights=np.ones_like(hist_data) * 1/ num_hist_samples)\n",
    "    plt.xlabel('Loss value')\n",
    "    plt.ylabel('log(frequency)')\n",
    "    plt.show()\n",
    "    model.train()"
   ]
  },
  {
   "cell_type": "code",
   "execution_count": 9,
   "metadata": {},
   "outputs": [],
   "source": [
    "from PIL import Image\n",
    "\n",
    "def show_image_from_tensor(tensor, mult=255):\n",
    "    data = tensor.numpy()*255\n",
    "    img = Image.fromarray(data)\n",
    "    img.show()"
   ]
  },
  {
   "cell_type": "code",
   "execution_count": 10,
   "metadata": {},
   "outputs": [],
   "source": [
    "def train_model(model, num_epochs=20, hist=False, defense=True):\n",
    "    learning_rate = 0.0001\n",
    "\n",
    "    opt = optim.Adam(params=model.parameters(), lr=learning_rate)\n",
    "\n",
    "    ce_loss = torch.nn.CrossEntropyLoss()\n",
    "\n",
    "    writer = SummaryWriter()\n",
    "    tot_steps = 0\n",
    "    \n",
    "    for epoch in range(1,num_epochs+1):\n",
    "        t1 = time.time()\n",
    "        for batch_idx, (x_batch, y_batch) in enumerate(train_loader):\n",
    "            \n",
    "            if hist and batch_idx == 0:\n",
    "                # init x for histogram\n",
    "                x_hist = x_batch[0, ...]\n",
    "                y_hist = y_batch[0].unsqueeze(0)\n",
    "\n",
    "            if hist and batch_idx % 200 == 0:\n",
    "                display_histogram(model, ce_loss, x_hist, y_hist)\n",
    "\n",
    "            if defense:\n",
    "                # Perturbate x to generate adverserial set by PGD attack\n",
    "                model.eval() # faster attack in evaluation mode\n",
    "                x_batch = pgd_untargeted(model, x_batch, y_batch, 5, 0.08, 0.05)\n",
    "                model.train() # switch back to training\n",
    "\n",
    "            x_batch, y_batch = x_batch.to(device), y_batch.to(device)\n",
    "            tot_steps += 1\n",
    "            opt.zero_grad()\n",
    "            logits = model(x_batch)\n",
    "            batch_loss = ce_loss(logits, y_batch)\n",
    "            batch_loss.backward()\n",
    "            opt.step()\n",
    "        \n",
    "        if hist:\n",
    "            print('Final histogram after full epoch:')\n",
    "            display_histogram(model, ce_loss, x_hist, y_hist)\n",
    "\n",
    "        tot_test, tot_acc = 0.0, 0.0\n",
    "        model.eval()\n",
    "        for batch_idx, (x_batch, y_batch) in enumerate(test_loader):\n",
    "            model.eval()\n",
    "            x_batch, y_batch = x_batch.to(device), y_batch.to(device)\n",
    "            logits = model(x_batch)\n",
    "            pred = torch.max(logits, dim=1)[1]\n",
    "            acc = pred.eq(y_batch).sum().item()\n",
    "            tot_acc += acc\n",
    "            tot_test += x_batch.size()[0]\n",
    "        t2 = time.time()\n",
    "        model.train()\n",
    "\n",
    "        print('Epoch %d: Accuracy %.5lf [%.2lf seconds]' % (epoch, tot_acc/tot_test, t2-t1))           "
   ]
  },
  {
   "cell_type": "code",
   "execution_count": 11,
   "metadata": {
    "scrolled": true
   },
   "outputs": [
    {
     "data": {
      "image/png": "[encoded data removed]",
      "text/plain": [
       "<Figure size 432x288 with 1 Axes>"
      ]
     },
     "metadata": {
      "needs_background": "light"
     },
     "output_type": "display_data"
    },
    {
     "data": {
      "image/png": "[encoded data removed]",
      "text/plain": [
       "<Figure size 432x288 with 1 Axes>"
      ]
     },
     "metadata": {
      "needs_background": "light"
     },
     "output_type": "display_data"
    },
    {
     "data": {
      "image/png": "[encoded data removed]",
      "text/plain": [
       "<Figure size 432x288 with 1 Axes>"
      ]
     },
     "metadata": {
      "needs_background": "light"
     },
     "output_type": "display_data"
    },
    {
     "data": {
      "image/png": "[encoded data removed]",
      "text/plain": [
       "<Figure size 432x288 with 1 Axes>"
      ]
     },
     "metadata": {
      "needs_background": "light"
     },
     "output_type": "display_data"
    },
    {
     "data": {
      "image/png": "[encoded data removed]",
      "text/plain": [
       "<Figure size 432x288 with 1 Axes>"
      ]
     },
     "metadata": {
      "needs_background": "light"
     },
     "output_type": "display_data"
    },
    {
     "name": "stdout",
     "output_type": "stream",
     "text": [
      "Final histogram after full epoch:\n"
     ]
    },
    {
     "data": {
      "image/png": "[encoded data removed]",
      "text/plain": [
       "<Figure size 432x288 with 1 Axes>"
      ]
     },
     "metadata": {
      "needs_background": "light"
     },
     "output_type": "display_data"
    },
    {
     "name": "stdout",
     "output_type": "stream",
     "text": [
      "Epoch 1: Accuracy 0.88730 [70.02 seconds]\n"
     ]
    }
   ],
   "source": [
    "train_model(model, num_epochs=1, hist=True, defense=True)"
   ]
  },
  {
   "cell_type": "markdown",
   "metadata": {},
   "source": [
    "# Results Interpretation\n",
    "We can clearly see that the histogram gets narrower the more we train it with the pgd attacks.\n",
    "\n",
    "# Problem 1.2\n",
    "Compare accuracy of perturbed training images vs. non perturbed training images."
   ]
  },
  {
   "cell_type": "code",
   "execution_count": 12,
   "metadata": {},
   "outputs": [],
   "source": [
    "def get_n_correct(model, x_batch, y_batch):\n",
    "    model.eval()\n",
    "    logits = model(x_batch)\n",
    "    model.train()\n",
    "    pred = torch.max(logits, dim=1)[1]\n",
    "    return  pred.eq(y_batch).sum().item()\n",
    "\n",
    "def compare_accuracy(dataset_loader, model):\n",
    "    n_samples = 1000\n",
    "\n",
    "    n_tot_test, counter = 0.0, 0.0\n",
    "    n_tot_correct = {'original':0, 'adv': 0}\n",
    "    t1 = time.time()\n",
    "    \n",
    "    for batch_idx, (x_batch, y_batch) in enumerate(dataset_loader):\n",
    "        counter += 1\n",
    "        if x_batch.size()[0] + n_tot_test >= n_samples:\n",
    "            n_rest = int(n_samples - n_tot_test)\n",
    "            x_batch, y_batch = x_batch[:n_rest, ...], y_batch[:n_rest, ...]\n",
    "\n",
    "        x_batch, y_batch = x_batch.to(device), y_batch.to(device)\n",
    "\n",
    "        # Original prediction\n",
    "        n_tot_correct['original'] += get_n_correct(model, x_batch, y_batch)\n",
    "\n",
    "        # Adverserial prediciton\n",
    "        x_batch_adv = pgd_untargeted(model, x_batch, y_batch, 5, 0.08, 0.05)\n",
    "        x_batch_adv = x_batch_adv.to(device)\n",
    "        n_tot_correct['adv'] += get_n_correct(model, x_batch_adv, y_batch)\n",
    "\n",
    "        # check if enough samples tested\n",
    "        n_tot_test += x_batch.size()[0]    \n",
    "        if n_tot_test >= n_samples:\n",
    "            break\n",
    "\n",
    "    t2 = time.time()\n",
    "    tot_acc = {'original':0, 'adv': 0}\n",
    "    tot_acc['original'] = n_tot_correct['original']/n_tot_test\n",
    "    tot_acc['adv'] = n_tot_correct['adv']/n_tot_test\n",
    "\n",
    "    print('Original Images Accuracy %.5lf [%.2f seconds]' % (tot_acc['original'], t2-t1))  \n",
    "    print('Adverserial Images Accuracy %.5lf [%.2f seconds]' % (tot_acc['adv'], t2-t1))           "
   ]
  },
  {
   "cell_type": "code",
   "execution_count": 13,
   "metadata": {},
   "outputs": [
    {
     "name": "stdout",
     "output_type": "stream",
     "text": [
      "Original Images Accuracy 0.86600 [0.32 seconds]\n",
      "Adverserial Images Accuracy 0.59900 [0.32 seconds]\n"
     ]
    }
   ],
   "source": [
    "compare_accuracy(test_loader, model)"
   ]
  },
  {
   "cell_type": "code",
   "execution_count": 14,
   "metadata": {},
   "outputs": [
    {
     "name": "stdout",
     "output_type": "stream",
     "text": [
      "Original Images Accuracy 0.87700 [0.30 seconds]\n",
      "Adverserial Images Accuracy 0.63400 [0.30 seconds]\n"
     ]
    }
   ],
   "source": [
    "compare_accuracy(train_loader, model)"
   ]
  },
  {
   "cell_type": "markdown",
   "metadata": {},
   "source": [
    "# Results Interpretation\n",
    "by\n",
    "We can see clearly that the accuracy for perturbed images goes down. Also by comparing the accuracy of adverserial examples for the trained and the test dataset we can see that for the test dataset the accuracy goes significantly down, which was expected.\n",
    "\n",
    "Those results should be tested agains a model without PGD defense for further insides."
   ]
  }
 ],
 "metadata": {
  "kernelspec": {
   "display_name": "Python 3",
   "language": "python",
   "name": "python3"
  },
  "language_info": {
   "codemirror_mode": {
    "name": "ipython",
    "version": 3
   },
   "file_extension": ".py",
   "mimetype": "text/x-python",
   "name": "python",
   "nbconvert_exporter": "python",
   "pygments_lexer": "ipython3",
   "version": "3.6.6"
  }
 },
 "nbformat": 4,
 "nbformat_minor": 2
}
