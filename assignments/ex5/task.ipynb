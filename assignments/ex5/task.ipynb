{
 "cells": [
  {
   "cell_type": "code",
   "execution_count": 1,
   "metadata": {},
   "outputs": [],
   "source": [
    "import matplotlib.pyplot as plt\n",
    "import torch\n",
    "import torch.nn as nn\n",
    "import torch.optim as optim\n",
    "import torch.nn.functional as F\n",
    "import numpy as np\n",
    "import time\n",
    "from IPython.core.debugger import set_trace\n",
    "from torchvision import datasets, transforms\n",
    "from tensorboardX import SummaryWriter\n",
    "from model import Net, ConvNet\n",
    "from lbfgsb import *\n",
    "device = torch.device(\"cpu\")"
   ]
  },
  {
   "cell_type": "code",
   "execution_count": 2,
   "metadata": {},
   "outputs": [
    {
     "data": {
      "text/plain": [
       "<torch._C.Generator at 0x7f2a70b60b70>"
      ]
     },
     "execution_count": 2,
     "metadata": {},
     "output_type": "execute_result"
    }
   ],
   "source": [
    "np.random.seed(42)\n",
    "torch.manual_seed(42)"
   ]
  },
  {
   "cell_type": "code",
   "execution_count": 3,
   "metadata": {},
   "outputs": [],
   "source": [
    "# loading the dataset\n",
    "# note that this time we do not perfrom the normalization operation, see next cell\n",
    "test_dataset = datasets.MNIST('mnist_data/', train=False, download=True, transform=transforms.Compose(\n",
    "    [transforms.ToTensor()]\n",
    "))"
   ]
  },
  {
   "cell_type": "code",
   "execution_count": 4,
   "metadata": {},
   "outputs": [
    {
     "name": "stderr",
     "output_type": "stream",
     "text": [
      "/home/manu/git/riai18/assignments/ex5/.env/lib/python3.6/site-packages/torch/serialization.py:425: SourceChangeWarning: source code of class 'torch.nn.modules.conv.Conv2d' has changed. you can retrieve the original source code by accessing the object's source attribute or set `torch.nn.Module.dump_patches = True` and use the patch tool to revert the changes.\n",
      "  warnings.warn(msg, SourceChangeWarning)\n",
      "/home/manu/git/riai18/assignments/ex5/.env/lib/python3.6/site-packages/torch/serialization.py:425: SourceChangeWarning: source code of class 'torch.nn.modules.batchnorm.BatchNorm2d' has changed. you can retrieve the original source code by accessing the object's source attribute or set `torch.nn.Module.dump_patches = True` and use the patch tool to revert the changes.\n",
      "  warnings.warn(msg, SourceChangeWarning)\n",
      "/home/manu/git/riai18/assignments/ex5/.env/lib/python3.6/site-packages/torch/serialization.py:425: SourceChangeWarning: source code of class 'torch.nn.modules.linear.Linear' has changed. you can retrieve the original source code by accessing the object's source attribute or set `torch.nn.Module.dump_patches = True` and use the patch tool to revert the changes.\n",
      "  warnings.warn(msg, SourceChangeWarning)\n"
     ]
    },
    {
     "data": {
      "text/plain": [
       "Sequential(\n",
       "  (0): Sequential(\n",
       "    (0): Normalize()\n",
       "    (1): Net(\n",
       "      (fc): Linear(in_features=784, out_features=200, bias=True)\n",
       "      (fc2): Linear(in_features=200, out_features=10, bias=True)\n",
       "    )\n",
       "  )\n",
       "  (1): Softmax()\n",
       ")"
      ]
     },
     "execution_count": 4,
     "metadata": {},
     "output_type": "execute_result"
    }
   ],
   "source": [
    "class Normalize(nn.Module):\n",
    "    def forward(self, x):\n",
    "        return (x - 0.1307)/0.3081\n",
    "\n",
    "# we load the body of the neural net trained last time...\n",
    "NN1_logits = torch.load('model_conv.net', map_location='cpu') \n",
    "NN2_logits = torch.load('model_ff.net', map_location='cpu') \n",
    "\n",
    "# ... and add the data normalization as a first \"layer\" to the network\n",
    "# this allows us to search for adverserial examples to the real image, rather than\n",
    "# to the normalized image\n",
    "NN1_logits = nn.Sequential(Normalize(), NN1_logits)\n",
    "NN2_logits = nn.Sequential(Normalize(), NN2_logits)\n",
    "\n",
    "# and here we also create a version of the model that outputs the class probabilities\n",
    "NN1 = nn.Sequential(NN1_logits, nn.Softmax())\n",
    "NN2 = nn.Sequential(NN2_logits, nn.Softmax())\n",
    "\n",
    "# we put the neural net into evaluation mode (this disables features like dropout)\n",
    "NN1_logits.eval()\n",
    "NN2_logits.eval()\n",
    "NN1.eval()\n",
    "NN2.eval()"
   ]
  },
  {
   "cell_type": "code",
   "execution_count": 5,
   "metadata": {},
   "outputs": [],
   "source": [
    "# define a show function for later\n",
    "def show(result_gd, result_gd_bounds, result_lbfgsb):    \n",
    "    gd_s, gd_l, gd_i, gd_t, gd_n = result_gd\n",
    "    gdb_s, gdb_l, gdb_i, gdb_t, gdb_n = result_gd_bounds\n",
    "    lbfgsb_s, lbfgsb_l, lbfgsb_i, lbfgsb_t = result_lbfgsb\n",
    "\n",
    "    def print_res(title, solved, loss, i, time, it=None):\n",
    "        print(title + ':')\n",
    "        print('\\tSolved:', solved)\n",
    "        print('\\tLoss:', loss)\n",
    "        print('\\tTime:', time, 's')        \n",
    "        if it is not None:\n",
    "            print('\\tGradient Descent iterations:', it)\n",
    "        p1 = NN1(torch.from_numpy(i).reshape((1, 1, 28, 28))).detach().numpy()\n",
    "        p2 = NN2(torch.from_numpy(i).reshape((1, 1, 28, 28))).detach().numpy()\n",
    "        print('\\tNN1_logits class: {} (p = {:.2f}) '.format(p1.argmax(), p1.max()))\n",
    "        print('\\tNN2_logits class: {} (p = {:.2f}) '.format(p2.argmax(), p2.max()))            \n",
    "\n",
    "    print_res('Gradient Descent', gd_s, gd_l, gd_i, gd_t, gd_n)\n",
    "    print_res('Gradient Descent w. Bounds', gdb_s, gdb_l, gdb_i, gdb_t, gdb_n)\n",
    "    print_res('L-BFGS-B', lbfgsb_s, lbfgsb_l, lbfgsb_i, lbfgsb_t)    \n",
    "    \n",
    "    f, axarr = plt.subplots(1,3, figsize=(18, 16))\n",
    "    axarr[0].imshow(gd_i.reshape(28, 28), cmap='gray')\n",
    "    axarr[0].set_title('Gradient Descent')\n",
    "    axarr[1].imshow(gdb_i.reshape(28, 28), cmap='gray')\n",
    "    axarr[1].set_title('Gradient Descent w. Bounds')\n",
    "    axarr[2].imshow(lbfgsb_i.reshape(28, 28), cmap='gray')\n",
    "    axarr[2].set_title('L-BFGS-B')    "
   ]
  },
  {
   "cell_type": "code",
   "execution_count": 6,
   "metadata": {},
   "outputs": [
    {
     "data": {
      "image/png": "[encoded data removed]",
      "text/plain": [
       "<Figure size 432x288 with 1 Axes>"
      ]
     },
     "metadata": {
      "needs_background": "light"
     },
     "output_type": "display_data"
    }
   ],
   "source": [
    "nine = test_dataset[12][0]\n",
    "fig = plt.figure()\n",
    "plt.imshow(nine.numpy().reshape((28,28)), cmap='gray')\n",
    "plt.title('Original Nine')\n",
    "None # avoid printing title object"
   ]
  },
  {
   "cell_type": "markdown",
   "metadata": {},
   "source": [
    "## Hints:\n",
    "\n",
    "- You are given a code skeleton with a few functions, but you will probably need to add some more arguments to the functions and their calls.\n",
    "- Split the target \"variable\" i into a fixed part (where it is equal to nine) and a variable part (that is optimized; set requires_grad for this one). Both parts should be tensors and can be combined into another tensor representing i.\n",
    "- Create these two tensors once and then have a function that combines them and calculates the loss.\n",
    "- For the loss it is easiest to implement a function implements the loss translation for the less-or-equal ($\\leq$) and less ($<$) operators from the lecutre. You can express all parts of the loss function with this. Make this parametric in the choice of d.\n",
    "- If implemented correctly your code should not run more than a few seconds.\n",
    "- There is no L-BFGS-B optimizer for pytroch yet. We provide a function that uses scipy to do this instead (see below).\n"
   ]
  },
  {
   "cell_type": "code",
   "execution_count": 7,
   "metadata": {},
   "outputs": [],
   "source": [
    "a = np.array([[2,1], [3,4]])"
   ]
  },
  {
   "cell_type": "code",
   "execution_count": 8,
   "metadata": {},
   "outputs": [],
   "source": [
    "class QueryNetwork:\n",
    "    \"\"\"\n",
    "    Query a neural network. The constrains are hardcoded in this class.\n",
    "    \"\"\"\n",
    "\n",
    "    def __init__(self, i_init, NN1_prop, NN2_prop, NN1_logits, NN2_logits,\n",
    "                 init_zero=False, learning_rate=0.1, **kwargs):\n",
    "\n",
    "        i_temp = i_init.clone()\n",
    "        # According to exersice sheet this part shall be fixed\n",
    "        self.i_fix = i_temp[0, :16, ...]\n",
    "        # According to exersice sheet this part shall be variable -> requieres grad\n",
    "        self.i_var = i_temp[0, 16:, ...]\n",
    "        if init_zero:\n",
    "            self.i_var = torch.zeros_like(self.i_var)\n",
    "\n",
    "        self.i_var.requires_grad = True\n",
    "        self.NN1_prop = NN1_prop\n",
    "        self.NN2_prop = NN2_prop\n",
    "        self.NN1_logits = NN1_logits\n",
    "        self.NN2_logits = NN2_logits\n",
    "        self.lbfgsb_NN1 = None\n",
    "        self.lbfgsb_NN2 = None\n",
    "        self.optimizer_sgd = optim.SGD([self.i_var], lr=learning_rate)\n",
    "\n",
    "\n",
    "    def get_i(self, **kwargs):\n",
    "        \"\"\"\n",
    "        Concanate the fixed and the variable part of i\n",
    "        \"\"\"\n",
    "        i = torch.cat((self.i_fix, self.i_var), 0)\n",
    "        i = i.reshape((1, 1, 28, 28))\n",
    "        return i\n",
    "\n",
    "    def get_loss(self, use_prob=None, use_logits=None, add_bounds=False, **kwargs):\n",
    "\n",
    "        loss = 0\n",
    "        if use_prob is None and use_logits is None:\n",
    "            use_logits = True\n",
    "\n",
    "        if use_prob and use_logits:\n",
    "            Exception(\n",
    "                \"Inconsistent arguments, use_prob and use_logits are both 'True'.\")\n",
    "\n",
    "        elif use_prob or not use_logits:\n",
    "            NN1_out = self.NN1_prop(self.get_i())\n",
    "            NN2_out = self.NN2_prop(self.get_i())\n",
    "\n",
    "        elif use_logits or not use_prob:\n",
    "            NN1_out = self.NN1_logits(self.get_i())\n",
    "            NN2_out = self.NN2_logits(self.get_i())\n",
    "        \n",
    "        if NN1_out is None or NN2_out is None:\n",
    "            Exception(\"No Neural Network output calculated.\")\n",
    "\n",
    "        # Calculate loss for constrain in exercise sheet: class (NN1( i ) ) = 8\n",
    "        # This is the same as stating that all probabilitiy outputs should be smaller than that of class 8.\n",
    "        # <=> NN1(i)[k] < NN1(i)[8], for all k except 8\n",
    "        loss += self.equal_to_label(NN1_out, 8, **kwargs)\n",
    "\n",
    "        # Calculate loss for constrain in exercise sheet: class (NN2( i ) ) = 9\n",
    "        # This is the same as stating that all probabilitiy outputs should be smaller than that of class 8.\n",
    "        # <=> NN2(i)[k] < NN2(i)[9], for all k except 9\n",
    "        loss += self.equal_to_label(NN2_out, 9, **kwargs)\n",
    "\n",
    "        # Add loss for values which are not in image domain.\n",
    "        if add_bounds:\n",
    "            i_var_flat = self.i_var.view(-1)\n",
    "            for k in range(i_var_flat.size()[0]):\n",
    "                loss += self.lower_equal(0, i_var_flat[k], **kwargs)\n",
    "                loss += self.lower_equal(i_var_flat[k], 1, **kwargs)\n",
    "\n",
    "        return loss\n",
    "\n",
    "    def solve_gd(self, max_iter_=100, learning_rate=None, **kwargs):\n",
    "        # return:\n",
    "        # solved: Bool; did you find a solution\n",
    "        # loss: Float; value of loss at the end\n",
    "        # i: numpy array; the resulting i\n",
    "        # t: float; how long the execution took\n",
    "        # nr: number of iterations\n",
    "\n",
    "        t0 = time.time()\n",
    "        loss = 0\n",
    "        solved = False\n",
    "        iter_ = 0\n",
    "\n",
    "        if learning_rate is not None:\n",
    "            for param_group in self.optimizer_sgd.param_groups:\n",
    "                param_group['lr'] = learning_rate\n",
    "\n",
    "        for iter_ in range(max_iter_):\n",
    "            self.optimizer_sgd.zero_grad()   # zero the gradient buffers\n",
    "            loss = self.get_loss(**kwargs)\n",
    "            if loss == 0:\n",
    "                break\n",
    "            loss.backward()\n",
    "            self.optimizer_sgd.step()    # Does the update\n",
    "        \n",
    "        try:\n",
    "            loss = loss.detach().numpy()\n",
    "        except AttributeError:\n",
    "            pass\n",
    "        solved = loss == 0\n",
    "        t1 = time.time()\n",
    "\n",
    "        return solved, loss, self.get_i().detach().numpy(), t1 - t0, iter_+1\n",
    "\n",
    "    def solve_lbfgsb(self, max_iter_=100, **kwargs):\n",
    "        # return:\n",
    "        # solved: Bool; did you find a solution\n",
    "        # loss: Float; value of loss at the end\n",
    "        # i: numpy array; the resulting i\n",
    "        # t: float; how long the execution took\n",
    "        t0 = time.time()\n",
    "        loss = 0\n",
    "        solved = False\n",
    "        \n",
    "        # Use provided lbfgsb optimizer\n",
    "        lbfgsb(self.i_var, 0, 1, self.get_loss, self.zero_grad)\n",
    "        \n",
    "        loss = self.get_loss(**kwargs)\n",
    "        loss = loss.detach().numpy()\n",
    "        solved = loss == 0\n",
    "        t1 = time.time()\n",
    "\n",
    "        return solved, loss, self.get_i().detach().numpy(), t1 - t0\n",
    "\n",
    "    def zero_grad(self):\n",
    "        self.NN1_prop.zero_grad()\n",
    "        self.NN2_prop.zero_grad()\n",
    "        self.NN1_logits.zero_grad()\n",
    "        self.NN2_logits.zero_grad()\n",
    "        if self.i_var.grad is not None:\n",
    "            self.i_var.grad.zero_()\n",
    "\n",
    "    def equal_to_label(self, NN_out, equal_label, **kwargs):\n",
    "        loss = 0\n",
    "        out_equal_label = NN_out[0][equal_label]\n",
    "        for label in range(0, NN_out.shape[1]):\n",
    "            if label == equal_label:\n",
    "                continue\n",
    "            loss += self.lower_strictly(NN_out[0]\n",
    "                                        [label], out_equal_label, **kwargs)\n",
    "\n",
    "        return loss\n",
    "\n",
    "    def lower_strictly(self, t1, t2, p=1, **kwargs):\n",
    "#         eps = np.finfo(float).eps\n",
    "        eps = 10e-15\n",
    "        return self.lower_equal(t1 + eps, t2, p=p, **kwargs)\n",
    "\n",
    "    def lower_equal(self, t1, t2, p=1):\n",
    "        return torch.clamp(self.distance(t1, t2, p=p), min=0)\n",
    "\n",
    "    @staticmethod\n",
    "    def distance(t1, t2, p=1):\n",
    "        if p%2 == 0:\n",
    "            return torch.sign(t1 - t2) * torch.pow(t1 - t2, p)\n",
    "        else:\n",
    "            return torch.pow(t1 - t2, p)"
   ]
  },
  {
   "cell_type": "markdown",
   "metadata": {},
   "source": [
    "## using logits, initialized with zeros"
   ]
  },
  {
   "cell_type": "code",
   "execution_count": 9,
   "metadata": {
    "scrolled": true
   },
   "outputs": [
    {
     "name": "stdout",
     "output_type": "stream",
     "text": [
      "Gradient Descent:\n",
      "\tSolved: True\n",
      "\tLoss: 0.0\n",
      "\tTime: 0.029137849807739258 s\n",
      "\tGradient Descent iterations: 2\n",
      "\tNN1_logits class: 8 (p = 1.00) \n",
      "\tNN2_logits class: 9 (p = 0.77) \n",
      "Gradient Descent w. Bounds:\n",
      "\tSolved: True\n",
      "\tLoss: 0.0\n",
      "\tTime: 0.276108980178833 s\n",
      "\tGradient Descent iterations: 6\n",
      "\tNN1_logits class: 8 (p = 1.00) \n",
      "\tNN2_logits class: 9 (p = 1.00) \n",
      "L-BFGS-B:\n",
      "\tSolved: True\n",
      "\tLoss: 0.0\n",
      "\tTime: 0.028342247009277344 s\n",
      "\tNN1_logits class: 8 (p = 1.00) \n",
      "\tNN2_logits class: 9 (p = 0.81) \n"
     ]
    },
    {
     "name": "stderr",
     "output_type": "stream",
     "text": [
      "/home/manu/git/riai18/assignments/ex5/.env/lib/python3.6/site-packages/torch/nn/modules/container.py:91: UserWarning: Implicit dimension choice for softmax has been deprecated. Change the call to include dim=X as an argument.\n",
      "  input = module(input)\n"
     ]
    },
    {
     "data": {
      "image/png": "[encoded data removed]",
      "text/plain": [
       "<Figure size 1296x1152 with 3 Axes>"
      ]
     },
     "metadata": {
      "needs_background": "light"
     },
     "output_type": "display_data"
    }
   ],
   "source": [
    "nine = test_dataset[12][0]\n",
    "qn_init_zero_1 = QueryNetwork(nine, NN1, NN2, NN1_logits, NN2_logits, init_zero=True)\n",
    "qn_init_zero_2 = QueryNetwork(nine, NN1, NN2, NN1_logits, NN2_logits, init_zero=True)\n",
    "qn_init_zero_3 = QueryNetwork(nine, NN1, NN2, NN1_logits, NN2_logits, init_zero=True)\n",
    "\n",
    "show(qn_init_zero_1.solve_gd(),\n",
    "     qn_init_zero_2.solve_gd(add_bounds=True),\n",
    "     qn_init_zero_3.solve_lbfgsb()\n",
    "    )"
   ]
  },
  {
   "cell_type": "markdown",
   "metadata": {},
   "source": [
    "Note that the first image has weird colors as not all values are in [0, 1]."
   ]
  },
  {
   "cell_type": "markdown",
   "metadata": {},
   "source": [
    "## using logits, initialized with original image"
   ]
  },
  {
   "cell_type": "code",
   "execution_count": 10,
   "metadata": {},
   "outputs": [
    {
     "name": "stdout",
     "output_type": "stream",
     "text": [
      "Gradient Descent:\n",
      "\tSolved: True\n",
      "\tLoss: 0.0\n",
      "\tTime: 0.02978372573852539 s\n",
      "\tGradient Descent iterations: 3\n",
      "\tNN1_logits class: 8 (p = 1.00) \n",
      "\tNN2_logits class: 9 (p = 1.00) \n",
      "Gradient Descent w. Bounds:\n",
      "\tSolved: True\n",
      "\tLoss: 0.0\n",
      "\tTime: 0.26227736473083496 s\n",
      "\tGradient Descent iterations: 7\n",
      "\tNN1_logits class: 8 (p = 1.00) \n",
      "\tNN2_logits class: 9 (p = 1.00) \n",
      "L-BFGS-B:\n",
      "\tSolved: True\n",
      "\tLoss: 0.0\n",
      "\tTime: 0.029787540435791016 s\n",
      "\tNN1_logits class: 8 (p = 1.00) \n",
      "\tNN2_logits class: 9 (p = 1.00) \n"
     ]
    },
    {
     "data": {
      "image/png": "[encoded data removed]",
      "text/plain": [
       "<Figure size 1296x1152 with 3 Axes>"
      ]
     },
     "metadata": {
      "needs_background": "light"
     },
     "output_type": "display_data"
    }
   ],
   "source": [
    "nine = test_dataset[12][0]\n",
    "qn1 = QueryNetwork(nine, NN1, NN2, NN1_logits, NN2_logits, init_zero=False)\n",
    "qn2 = QueryNetwork(nine, NN1, NN2, NN1_logits, NN2_logits, init_zero=False)\n",
    "qn3 = QueryNetwork(nine, NN1, NN2, NN1_logits, NN2_logits, init_zero=False)\n",
    "\n",
    "show(qn1.solve_gd(),\n",
    "     qn2.solve_gd(add_bounds=True),\n",
    "     qn3.solve_lbfgsb())"
   ]
  },
  {
   "cell_type": "markdown",
   "metadata": {},
   "source": [
    "## using probabilites, initialized with zeros"
   ]
  },
  {
   "cell_type": "code",
   "execution_count": 11,
   "metadata": {
    "scrolled": false
   },
   "outputs": [
    {
     "name": "stdout",
     "output_type": "stream",
     "text": [
      "Gradient Descent:\n",
      "\tSolved: False\n",
      "\tLoss: 0.9999953\n",
      "\tTime: 0.8457925319671631 s\n",
      "\tGradient Descent iterations: 100\n",
      "\tNN1_logits class: 9 (p = 1.00) \n",
      "\tNN2_logits class: 9 (p = 0.97) \n",
      "Gradient Descent w. Bounds:\n",
      "\tSolved: False\n",
      "\tLoss: 0.9999953\n",
      "\tTime: 0.8520739078521729 s\n",
      "\tGradient Descent iterations: 100\n",
      "\tNN1_logits class: 9 (p = 1.00) \n",
      "\tNN2_logits class: 9 (p = 0.97) \n",
      "L-BFGS-B:\n",
      "\tSolved: True\n",
      "\tLoss: 0.0\n",
      "\tTime: 0.030293941497802734 s\n",
      "\tNN1_logits class: 8 (p = 1.00) \n",
      "\tNN2_logits class: 9 (p = 0.81) \n"
     ]
    },
    {
     "data": {
      "image/png": "[encoded data removed]",
      "text/plain": [
       "<Figure size 1296x1152 with 3 Axes>"
      ]
     },
     "metadata": {
      "needs_background": "light"
     },
     "output_type": "display_data"
    }
   ],
   "source": [
    "nine = test_dataset[12][0]\n",
    "qn_init_zero_1 = QueryNetwork(nine, NN1, NN2, NN1_logits, NN2_logits, init_zero=True)\n",
    "qn_init_zero_2 = QueryNetwork(nine, NN1, NN2, NN1_logits, NN2_logits, init_zero=True)\n",
    "qn_init_zero_3 = QueryNetwork(nine, NN1, NN2, NN1_logits, NN2_logits, init_zero=True)\n",
    "\n",
    "show(qn_init_zero_1.solve_gd(use_logits=False),\n",
    "     qn_init_zero_2.solve_gd(use_logits=False),\n",
    "     qn_init_zero_3.solve_lbfgsb(use_logits=False))"
   ]
  },
  {
   "cell_type": "markdown",
   "metadata": {},
   "source": [
    "## using probabilites, initialized with original image"
   ]
  },
  {
   "cell_type": "code",
   "execution_count": 12,
   "metadata": {},
   "outputs": [
    {
     "name": "stdout",
     "output_type": "stream",
     "text": [
      "Gradient Descent:\n",
      "\tSolved: False\n",
      "\tLoss: 0.99999976\n",
      "\tTime: 0.8135232925415039 s\n",
      "\tGradient Descent iterations: 100\n",
      "\tNN1_logits class: 9 (p = 1.00) \n",
      "\tNN2_logits class: 9 (p = 1.00) \n",
      "Gradient Descent w. Bounds:\n",
      "\tSolved: False\n",
      "\tLoss: 0.9999975\n",
      "\tTime: 4.813489675521851 s\n",
      "\tGradient Descent iterations: 100\n",
      "\tNN1_logits class: 9 (p = 1.00) \n",
      "\tNN2_logits class: 9 (p = 1.00) \n",
      "L-BFGS-B:\n",
      "\tSolved: True\n",
      "\tLoss: 0.0\n",
      "\tTime: 0.02459096908569336 s\n",
      "\tNN1_logits class: 8 (p = 1.00) \n",
      "\tNN2_logits class: 9 (p = 1.00) \n"
     ]
    },
    {
     "data": {
      "image/png": "[encoded data removed]",
      "text/plain": [
       "<Figure size 1296x1152 with 3 Axes>"
      ]
     },
     "metadata": {
      "needs_background": "light"
     },
     "output_type": "display_data"
    }
   ],
   "source": [
    "nine = test_dataset[12][0]\n",
    "qn1 = QueryNetwork(nine, NN1, NN2, NN1_logits, NN2_logits, init_zero=False)\n",
    "qn2 = QueryNetwork(nine, NN1, NN2, NN1_logits, NN2_logits, init_zero=False)\n",
    "qn3 = QueryNetwork(nine, NN1, NN2, NN1_logits, NN2_logits, init_zero=False)\n",
    "\n",
    "show(qn1.solve_gd(use_prob=True),\n",
    "     qn2.solve_gd(add_bounds=True, use_prob=True),\n",
    "     qn3.solve_lbfgsb(use_prob=True))"
   ]
  },
  {
   "cell_type": "markdown",
   "metadata": {},
   "source": [
    "We see that using probabilities is not a viable approach. The numerical optimization problem becomes basically intractable due to the softmax function."
   ]
  },
  {
   "cell_type": "markdown",
   "metadata": {},
   "source": [
    "## using logits, initialized with original image, squared distance function $d(a, b) = (a - b)^2$"
   ]
  },
  {
   "cell_type": "code",
   "execution_count": 13,
   "metadata": {
    "scrolled": false
   },
   "outputs": [
    {
     "name": "stdout",
     "output_type": "stream",
     "text": [
      "Gradient Descent:\n",
      "\tSolved: False\n",
      "\tLoss: 0.9999975\n",
      "\tTime: 0.8631887435913086 s\n",
      "\tGradient Descent iterations: 100\n",
      "\tNN1_logits class: 9 (p = 1.00) \n",
      "\tNN2_logits class: 9 (p = 1.00) \n",
      "Gradient Descent w. Bounds:\n",
      "\tSolved: False\n",
      "\tLoss: 0.9999975\n",
      "\tTime: 6.855750322341919 s\n",
      "\tGradient Descent iterations: 100\n",
      "\tNN1_logits class: 9 (p = 1.00) \n",
      "\tNN2_logits class: 9 (p = 1.00) \n",
      "L-BFGS-B:\n",
      "\tSolved: True\n",
      "\tLoss: 0.0\n",
      "\tTime: 0.05174589157104492 s\n",
      "\tNN1_logits class: 8 (p = 1.00) \n",
      "\tNN2_logits class: 9 (p = 1.00) \n"
     ]
    },
    {
     "data": {
      "image/png": "[encoded data removed]",
      "text/plain": [
       "<Figure size 1296x1152 with 3 Axes>"
      ]
     },
     "metadata": {
      "needs_background": "light"
     },
     "output_type": "display_data"
    }
   ],
   "source": [
    "nine = test_dataset[12][0]\n",
    "qn1 = QueryNetwork(nine, NN1, NN2, NN1_logits, NN2_logits, init_zero=False)\n",
    "qn2 = QueryNetwork(nine, NN1, NN2, NN1_logits, NN2_logits, init_zero=False)\n",
    "qn3 = QueryNetwork(nine, NN1, NN2, NN1_logits, NN2_logits, init_zero=False)\n",
    "\n",
    "show(qn1.solve_gd(use_prob=True, p=2),\n",
    "     qn2.solve_gd(add_bounds=True, use_prob=True, p=2),\n",
    "     qn3.solve_lbfgsb(use_prob=True, p=2))"
   ]
  },
  {
   "cell_type": "markdown",
   "metadata": {},
   "source": [
    "We can see that this distance measure works less well as the absolute distance difference."
   ]
  },
  {
   "cell_type": "markdown",
   "metadata": {},
   "source": [
    "# Final interpretation:\n",
    "\n",
    "From the results we can see that the logits output work better than the probability output. This is due to softmax. Further we see that the bounds work very well and the loss converges to zero also with them. The bounds are used to stay in the "
   ]
  }
 ],
 "metadata": {
  "kernelspec": {
   "display_name": "Python 3",
   "language": "python",
   "name": "python3"
  },
  "language_info": {
   "codemirror_mode": {
    "name": "ipython",
    "version": 3
   },
   "file_extension": ".py",
   "mimetype": "text/x-python",
   "name": "python",
   "nbconvert_exporter": "python",
   "pygments_lexer": "ipython3",
   "version": "3.6.6"
  },
  "varInspector": {
   "cols": {
    "lenName": 16,
    "lenType": 16,
    "lenVar": 40
   },
   "kernels_config": {
    "python": {
     "delete_cmd_postfix": "",
     "delete_cmd_prefix": "del ",
     "library": "var_list.py",
     "varRefreshCmd": "print(var_dic_list())"
    },
    "r": {
     "delete_cmd_postfix": ") ",
     "delete_cmd_prefix": "rm(",
     "library": "var_list.r",
     "varRefreshCmd": "cat(var_dic_list()) "
    }
   },
   "types_to_exclude": [
    "module",
    "function",
    "builtin_function_or_method",
    "instance",
    "_Feature"
   ],
   "window_display": false
  }
 },
 "nbformat": 4,
 "nbformat_minor": 2
}
