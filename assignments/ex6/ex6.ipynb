{
 "cells": [
  {
   "cell_type": "markdown",
   "metadata": {},
   "source": [
    "# Problem1\n",
    "\n",
    "Create abstract interpretator for small NN in the interval domain."
   ]
  },
  {
   "cell_type": "code",
   "execution_count": 31,
   "metadata": {},
   "outputs": [],
   "source": [
    "def multS(x,s):\n",
    "    \"\"\"\n",
    "    Multiply interval by scalar.\n",
    "    \n",
    "    >>> multS([1,2],2)\n",
    "    [2, 4]\n",
    "    >>> multS([1,2], -2)\n",
    "    [-4, -2]\n",
    "    >>> multS([-1,2], 2)\n",
    "    [-2, 4]\n",
    "    \"\"\"\n",
    "    assert len(x) ==2\n",
    "    l = min([x[0]*s, x[1]*s])\n",
    "    u = max([x[0]*s, x[1]*s])\n",
    "    return [l, u]\n",
    "\n",
    "def add(x1, x2):\n",
    "    \"\"\"\n",
    "    Add two intervals.\n",
    "    \n",
    "    >>> add([1, 2], [3, 4])\n",
    "    [4, 6]\n",
    "    \"\"\"\n",
    "    assert len(x1) ==2\n",
    "    assert len(x2) ==2\n",
    "\n",
    "    return [x1[0] + x2[0], x1[1] + x2[1]]\n",
    "\n",
    "def addS(x,s):\n",
    "    \"\"\"\n",
    "    Add scalar and interval.\n",
    "    \n",
    "    >>> addS([1, 2],2)\n",
    "    [3, 4]\n",
    "    \"\"\"\n",
    "    assert len(x) ==2\n",
    "    \n",
    "    return [x[0] + s, x[1] + s]\n",
    "\n",
    "def ReLU(x):\n",
    "    \"\"\"\n",
    "    ReLU of interval.\n",
    "    \n",
    "    >>> ReLU([-1, 2])\n",
    "    [0, 2]\n",
    "    >>> ReLU([-4, -2])\n",
    "    [0, 0]\n",
    "    >>> ReLU([3, 2])\n",
    "    [3, 2]\n",
    "    \"\"\"\n",
    "    assert len(x) ==2\n",
    "    \n",
    "    x[0] = max(0, x[0])\n",
    "    x[1] = max(0, x[1])\n",
    "    \n",
    "    return x\n",
    "\n",
    "def Net(x1,x2):\n",
    "    \"\"\"\n",
    "    Simple Neural Net\n",
    "    \"\"\"\n",
    "    neuron1 = ReLU(addS(add(multS(x1, -1), x2), 2))\n",
    "    neuron2 = ReLU(add(multS(x2, -2), x1))\n",
    "\n",
    "    return ReLU(add(neuron1, neuron2))"
   ]
  },
  {
   "cell_type": "markdown",
   "metadata": {},
   "source": [
    "# Test\n",
    "## Problem 1.2"
   ]
  },
  {
   "cell_type": "code",
   "execution_count": 32,
   "metadata": {},
   "outputs": [
    {
     "data": {
      "text/plain": [
       "[0, 5]"
      ]
     },
     "execution_count": 32,
     "metadata": {},
     "output_type": "execute_result"
    }
   ],
   "source": [
    "x1 = [0,2] # Interval for input 1\n",
    "x2 = [0,1] # Interval for input 2\n",
    "out = Net(x1,x2) # Calculate output\n",
    "out"
   ]
  },
  {
   "cell_type": "markdown",
   "metadata": {},
   "source": [
    "## Interpretation\n",
    "With this we see that the output $y$ will fall in the interval of $y \\in [0,5]$."
   ]
  },
  {
   "cell_type": "markdown",
   "metadata": {},
   "source": [
    "## Problem 1.3\n",
    "Split input box to proof that 5 is not element of the output."
   ]
  },
  {
   "cell_type": "code",
   "execution_count": 33,
   "metadata": {},
   "outputs": [
    {
     "name": "stdout",
     "output_type": "stream",
     "text": [
      "N1: [1, 4]\n",
      "N2: [0, 4]\n",
      "Is our testnumber 5 in the output interval? : False \n"
     ]
    }
   ],
   "source": [
    "# x1 = x11 U x12\n",
    "# x2 = x21 U x22\n",
    "x11 = [0,1] \n",
    "x12 = [1,2]\n",
    "x21 = [0,1] \n",
    "x22 = [0,1]\n",
    "\n",
    "# N = N1 U N2\n",
    "N1 = Net(x11,x21)\n",
    "N2 = Net(x12,x22)\n",
    "print(\"N1: %s\\nN2: %s\" %(N1, N2))\n",
    "\n",
    "z = 5\n",
    "test = z in N1 or z in N2\n",
    "print(\"Is our testnumber %d in the output interval? : %s \" %(z , test))"
   ]
  },
  {
   "cell_type": "markdown",
   "metadata": {},
   "source": [
    "## Interpretation\n",
    "With this we see that 5 is indeed not part of the output interval."
   ]
  }
 ],
 "metadata": {
  "kernelspec": {
   "display_name": "Python 3",
   "language": "python",
   "name": "python3"
  },
  "language_info": {
   "codemirror_mode": {
    "name": "ipython",
    "version": 3
   },
   "file_extension": ".py",
   "mimetype": "text/x-python",
   "name": "python",
   "nbconvert_exporter": "python",
   "pygments_lexer": "ipython3",
   "version": "3.6.7"
  }
 },
 "nbformat": 4,
 "nbformat_minor": 2
}
