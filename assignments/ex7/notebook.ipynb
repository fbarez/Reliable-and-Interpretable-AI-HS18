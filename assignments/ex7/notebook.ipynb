{
 "cells": [
  {
   "cell_type": "markdown",
   "metadata": {},
   "source": [
    "# Exercise 7: Zonotope transformers\n",
    "\n",
    " \n",
    "## Problem 1.\n",
    "Design a sound and precise ReLU transformer for zonotopes.\n",
    "\n",
    "## Problem 2.\n",
    "Prove the soundness of the transformer.\n",
    "\n",
    "## Problem 3.\n",
    "Implement in Python the following zonotope transformers:\n",
    "\n",
    "Dot product with a constant vector:\n",
    "Input: constants (c1, …, cn), zonotopes (z1, …, zn)\n",
    "Output: the zonotope c1 z1 + … + cn zn\n",
    "\n",
    "Your ReLU transformer from Problem 1.\n",
    "\n",
    "## Problem 4.\n",
    "Run the neural network from Exercise 6 with your zonotopes.\n",
    "\n",
    "$N \\left( x _ { 1 } , x _ { 2 } \\right) = \\operatorname { ReLU } \\left( \\operatorname { ReLU } \\left( - x _ { 1 } + x _ { 2 } + 2 \\right) + \\operatorname { ReLU } \\left( x _ { 1 } - 2 x _ { 2 } \\right) \\right)$\n",
    "\n",
    "# Solutions\n",
    "\n",
    "## Problem 1 and 2\n",
    "Done on Paper\n",
    "\n",
    "## Problem 3\n",
    "In file zonotope.py"
   ]
  },
  {
   "cell_type": "code",
   "execution_count": 1,
   "metadata": {},
   "outputs": [
    {
     "name": "stdout",
     "output_type": "stream",
     "text": [
      "Trying:\r\n",
      "    ctx = ZonotopeContext()\r\n",
      "Expecting nothing\r\n",
      "ok\r\n",
      "Trying:\r\n",
      "    C = [1.0,\r\n",
      "         2.0,\r\n",
      "         3.0]\r\n",
      "Expecting nothing\r\n",
      "ok\r\n",
      "Trying:\r\n",
      "    Z = [ctx.make(1.0, 0.25),\r\n",
      "         ctx.make(2.0, 0.25),\r\n",
      "         ctx.make(3.0, 0.25)]\r\n",
      "Expecting nothing\r\n",
      "ok\r\n",
      "Trying:\r\n",
      "    sorted(ctx.dot(C, Z).items())\r\n",
      "Expecting:\r\n",
      "    [(0, 14.0), (1, 0.25), (2, 0.5), (3, 0.75)]\r\n",
      "ok\r\n",
      "Trying:\r\n",
      "    ctx = ZonotopeContext(3)\r\n",
      "Expecting nothing\r\n",
      "ok\r\n",
      "Trying:\r\n",
      "    ctx.extrema({0: 14.0, 1: 0.25, 2: 0.5, 3: 0.75})\r\n",
      "Expecting:\r\n",
      "    (12.5, 15.5)\r\n",
      "ok\r\n",
      "Trying:\r\n",
      "    ctx = ZonotopeContext()\r\n",
      "Expecting nothing\r\n",
      "ok\r\n",
      "Trying:\r\n",
      "    sorted(ctx.make(1.0, 0.25).items())\r\n",
      "Expecting:\r\n",
      "    [(0, 1.0), (1, 0.25)]\r\n",
      "ok\r\n",
      "Trying:\r\n",
      "    ctx = ZonotopeContext(3)\r\n",
      "Expecting nothing\r\n",
      "ok\r\n",
      "Trying:\r\n",
      "    sorted(ctx.relu({0: 14.0, 1: 0.25, 2: 0.5, 3: 0.75}).items())\r\n",
      "Expecting:\r\n",
      "    [(0, 14.0), (1, 0.25), (2, 0.5), (3, 0.75)]\r\n",
      "ok\r\n",
      "Trying:\r\n",
      "    sorted(ctx.relu({0: -14.0, 1: 0.25, 2: 0.5, 3: 0.75}).items())\r\n",
      "Expecting:\r\n",
      "    [(0, 0.0)]\r\n",
      "ok\r\n",
      "Trying:\r\n",
      "    sorted(ctx.relu({0: 0.000, 1: 0.25, 2: 0.5, 3: 0.75}).items())\r\n",
      "Expecting:\r\n",
      "    [(0, 0.375), (1, 0.125), (2, 0.25), (3, 0.375), (4, 0.375)]\r\n",
      "ok\r\n",
      "3 items had no tests:\r\n",
      "    zonotope\r\n",
      "    zonotope.ZonotopeContext\r\n",
      "    zonotope.ZonotopeContext.__init__\r\n",
      "4 items passed all tests:\r\n",
      "   4 tests in zonotope.ZonotopeContext.dot\r\n",
      "   2 tests in zonotope.ZonotopeContext.extrema\r\n",
      "   2 tests in zonotope.ZonotopeContext.make\r\n",
      "   4 tests in zonotope.ZonotopeContext.relu\r\n",
      "12 tests in 7 items.\r\n",
      "12 passed and 0 failed.\r\n",
      "Test passed.\r\n"
     ]
    }
   ],
   "source": [
    "from zonotope import *\n",
    "\n",
    "# Test the implementation of zonotopes for problem 3\n",
    "!python3.6 -m doctest zonotope.py -v\n"
   ]
  },
  {
   "cell_type": "markdown",
   "metadata": {},
   "source": [
    "## Solution Problem 4"
   ]
  },
  {
   "cell_type": "code",
   "execution_count": 3,
   "metadata": {},
   "outputs": [
    {
     "data": {
      "text/plain": [
       "defaultdict(float, {0: 2.0, 1: -0.5, 2: 0.0, 3: 0.0, 4: 0.5})"
      ]
     },
     "execution_count": 3,
     "metadata": {},
     "output_type": "execute_result"
    }
   ],
   "source": [
    "from IPython.core.debugger import set_trace\n",
    "\n",
    "def N(ctx, x0, x1, x2):\n",
    "    n1 = ctx.relu(ctx.dot([2.0, -1.0, 1.0], [x0, x1, x2]))\n",
    "    n2 = ctx.relu(ctx.dot([0.0, 1.0, -2.0], [x0, x1, x2]))\n",
    "#     set_trace()\n",
    "    return ctx.relu(ctx.dot([1.0, 1.0], [n1, n2]))\n",
    "\n",
    "ctx = ZonotopeContext()\n",
    "x0 = ctx.make(1.0, 0.0)\n",
    "x1 = ctx.make(1.0, 1.0)\n",
    "x2 = ctx.make(0.5, 0.5)\n",
    "N(ctx, x0 ,x1, x2)"
   ]
  }
 ],
 "metadata": {
  "kernelspec": {
   "display_name": "Python 3",
   "language": "python",
   "name": "python3"
  },
  "language_info": {
   "codemirror_mode": {
    "name": "ipython",
    "version": 3
   },
   "file_extension": ".py",
   "mimetype": "text/x-python",
   "name": "python",
   "nbconvert_exporter": "python",
   "pygments_lexer": "ipython3",
   "version": "3.6.7"
  }
 },
 "nbformat": 4,
 "nbformat_minor": 2
}
